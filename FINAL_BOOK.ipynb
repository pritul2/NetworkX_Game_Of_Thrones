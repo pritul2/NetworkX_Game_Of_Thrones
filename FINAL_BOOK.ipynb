{
 "cells": [
  {
   "cell_type": "code",
   "execution_count": 1,
   "metadata": {},
   "outputs": [],
   "source": [
    "from nxviz import MatrixPlot,ArcPlot,CircosPlot\n",
    "from hiveplot import HivePlot\n",
    "import pandas as pd\n",
    "import matplotlib.pyplot as plt\n",
    "import networkx as nx\n",
    "import numpy as np"
   ]
  },
  {
   "cell_type": "code",
   "execution_count": 2,
   "metadata": {},
   "outputs": [],
   "source": [
    "def ecdf(data):\n",
    "    return np.sort(data),np.arange(1,len(data)+1)/len(data)"
   ]
  },
  {
   "cell_type": "code",
   "execution_count": 3,
   "metadata": {},
   "outputs": [
    {
     "name": "stdout",
     "output_type": "stream",
     "text": [
      "                            Source              Target        Type  weight  \\\n",
      "0                   Addam-Marbrand     Jaime-Lannister  Undirected       3   \n",
      "1                   Addam-Marbrand     Tywin-Lannister  Undirected       6   \n",
      "2                Aegon-I-Targaryen  Daenerys-Targaryen  Undirected       5   \n",
      "3                Aegon-I-Targaryen        Eddard-Stark  Undirected       4   \n",
      "4  Aemon-Targaryen-(Maester-Aemon)      Alliser-Thorne  Undirected       4   \n",
      "\n",
      "   book  \n",
      "0     1  \n",
      "1     1  \n",
      "2     1  \n",
      "3     1  \n",
      "4     1  \n",
      "[('Addam-Marbrand', {}), ('Jaime-Lannister', {}), ('Tywin-Lannister', {}), ('Aegon-I-Targaryen', {}), ('Daenerys-Targaryen', {}), ('Eddard-Stark', {}), ('Aemon-Targaryen-(Maester-Aemon)', {}), ('Alliser-Thorne', {}), ('Bowen-Marsh', {}), ('Chett', {}), ('Clydas', {}), ('Jeor-Mormont', {}), ('Jon-Snow', {}), ('Samwell-Tarly', {}), ('Aerys-II-Targaryen', {}), ('Brandon-Stark', {}), ('Gerold-Hightower', {}), ('Jon-Arryn', {}), ('Robert-Baratheon', {}), ('Aggo', {}), ('Drogo', {}), ('Jhogo', {}), ('Jorah-Mormont', {}), ('Quaro', {}), ('Rakharo', {}), ('Albett', {}), ('Halder', {}), ('Rast', {}), ('Grenn', {}), ('Pypar', {}), ('Tyrion-Lannister', {}), ('Alyn', {}), ('Harwin', {}), ('Jory-Cassel', {}), ('Tomard', {}), ('Arthur-Dayne', {}), ('Arya-Stark', {}), ('Benjen-Stark', {}), ('Bran-Stark', {}), ('Catelyn-Stark', {}), ('Cersei-Lannister', {}), ('Desmond', {}), ('Ilyn-Payne', {}), ('Jeyne-Poole', {}), ('Joffrey-Baratheon', {}), ('Meryn-Trant', {}), ('Mordane', {}), ('Mycah', {}), ('Myrcella-Baratheon', {}), ('Petyr-Baelish', {}), ('Rickon-Stark', {}), ('Robb-Stark', {}), ('Rodrik-Cassel', {}), ('Sandor-Clegane', {}), ('Sansa-Stark', {}), ('Syrio-Forel', {}), ('Tommen-Baratheon', {}), ('Vayon-Poole', {}), ('Yoren', {}), ('Arys-Oakheart', {}), ('Balon-Greyjoy', {}), ('Balon-Swann', {}), ('Renly-Baratheon', {}), ('Barristan-Selmy', {}), ('Boros-Blount', {}), ('Pycelle', {}), ('Varys', {}), ('Jaremy-Rykker', {}), ('Luwin', {}), ('Mance-Rayder', {}), ('Theon-Greyjoy', {}), ('Waymar-Royce', {}), ('Beric-Dondarrion', {}), ('Gregor-Clegane', {}), ('Loras-Tyrell', {}), ('Thoros-of-Myr', {}), ('Hali', {}), ('Hallis-Mollen', {}), ('Hodor', {}), ('Hullen', {}), ('Joseth', {}), ('Nan', {}), ('Osha', {}), ('Rickard-Karstark', {}), ('Rickard-Stark', {}), ('Stiv', {}), ('Lyanna-Stark', {}), ('Bronn', {}), ('Chiggen', {}), ('Marillion', {}), ('Shae', {}), ('Shagga', {}), ('Vardis-Egen', {}), ('Willis-Wode', {}), ('Brynden-Tully', {}), ('Edmure-Tully', {}), ('Hoster-Tully', {}), ('Lysa-Arryn', {}), ('Nestor-Royce', {}), ('Walder-Frey', {}), ('Colemon', {}), ('Donnel-Waynwood', {}), ('Eon-Hunter', {}), ('Jon-Umber-(Greatjon)', {}), ('Masha-Heddle', {}), ('Moreo-Tumitis', {}), ('Mya-Stone', {}), ('Mychel-Redfort', {}), ('Robert-Arryn', {}), ('Stevron-Frey', {}), ('Tytos-Blackwood', {}), ('Wendel-Manderly', {}), ('Cayn', {}), ('Janos-Slynt', {}), ('Stannis-Baratheon', {}), ('Chella', {}), ('Clement-Piper', {}), ('Karyl-Vance', {}), ('Cohollo', {}), ('Haggo', {}), ('Qotho', {}), ('Conn', {}), ('Coratt', {}), ('Doreah', {}), ('Eroeh', {}), ('Illyrio-Mopatis', {}), ('Irri', {}), ('Jhiqui', {}), ('Mirri-Maz-Duur', {}), ('Rhaegar-Targaryen', {}), ('Viserys-Targaryen', {}), ('Danwell-Frey', {}), ('Hosteen-Frey', {}), ('Jared-Frey', {}), ('Dareon', {}), ('Daryn-Hornwood', {}), ('Torrhen-Karstark', {}), ('Dolf', {}), ('Donal-Noye', {}), ('Jommo', {}), ('Ogo', {}), ('Rhaego', {}), ('Dywen', {}), ('Galbart-Glover', {}), ('Gendry', {}), ('High-Septon-(fat_one)', {}), ('Howland-Reed', {}), ('Jacks', {}), ('Joss', {}), ('Marq-Piper', {}), ('Porther', {}), ('Raymun-Darry', {}), ('Tobho-Mott', {}), ('Tregar', {}), ('Varly', {}), ('Wyl-(guard)', {}), ('Wylla', {}), ('Fogo', {}), ('Roose-Bolton', {}), ('Gared', {}), ('Will-(prologue)', {}), ('Oswell-Whent', {}), ('Todder', {}), ('Gunthor-son-of-Gurn', {}), ('Harys-Swyft', {}), ('Heward', {}), ('Hobb', {}), ('Hugh', {}), ('Jafer-Flowers', {}), ('Kevan-Lannister', {}), ('Matthar', {}), ('Othor', {}), ('Maege-Mormont', {}), ('Jonos-Bracken', {}), ('Jyck', {}), ('Morrec', {}), ('Kurleket', {}), ('Lancel-Lannister', {}), ('Leo-Lefford', {}), ('Mace-Tyrell', {}), ('Lyn-Corbray', {}), ('Paxter-Redwyne', {}), ('Maegor-I-Targaryen', {}), ('Mord', {}), ('Randyll-Tarly', {}), ('Timett', {}), ('Ulf-son-of-Umar', {})]\n"
     ]
    },
    {
     "name": "stderr",
     "output_type": "stream",
     "text": [
      "/anaconda3/envs/tensorflow/lib/python3.7/site-packages/networkx/drawing/nx_pylab.py:579: MatplotlibDeprecationWarning: \n",
      "The iterable function was deprecated in Matplotlib 3.1 and will be removed in 3.3. Use np.iterable instead.\n",
      "  if not cb.iterable(width):\n"
     ]
    },
    {
     "ename": "SystemExit",
     "evalue": "0",
     "output_type": "error",
     "traceback": [
      "An exception has occurred, use %tb to see the full traceback.\n",
      "\u001b[0;31mSystemExit\u001b[0m\u001b[0;31m:\u001b[0m 0\n"
     ]
    },
    {
     "name": "stderr",
     "output_type": "stream",
     "text": [
      "/anaconda3/envs/tensorflow/lib/python3.7/site-packages/IPython/core/interactiveshell.py:3339: UserWarning: To exit: use 'exit', 'quit', or Ctrl-D.\n",
      "  warn(\"To exit: use 'exit', 'quit', or Ctrl-D.\", stacklevel=1)\n"
     ]
    }
   ],
   "source": [
    "for i in range(1,6):\n",
    "    df = pd.read_csv(\"/Users/prituldave/projects/networkx/GOT/book\"+str(i)+\".csv\")\n",
    "    \n",
    "    print(df.head())\n",
    "    \n",
    "    \n",
    "    G = nx.Graph()\n",
    "    '''G.add_nodes_from(df['Source'])\n",
    "    G.add_nodes_from(df['Target'])'''\n",
    "    \n",
    "    \n",
    "    for s,t,w in zip(df['Source'],df['Target'],df['weight']):\n",
    "        G.add_edge(s,t,weight=w)\n",
    "        \n",
    "    print(G.nodes(data=True))\n",
    "    #pos = nx.spring_layout(G)\n",
    "    plt.axis('equal') \n",
    "    nx.draw(G,with_labels=True,font_size=5,node_size=8);plt.show()\n",
    "    #nx.draw_networkx_edge_labels(G,pos)\n",
    "    \n",
    "\n",
    "    m = MatrixPlot(G)\n",
    "    m.draw();plt.show()\n",
    "    \n",
    "    \n",
    "    a = ArcPlot(G)\n",
    "    a.draw();plt.show()\n",
    "    \n",
    "    \n",
    "    c = CircosPlot(G)\n",
    "    c.draw()\n",
    "    \n",
    "    \n",
    "    \n",
    "    #Top 5 import persons without weights#\n",
    "    persons_list = []\n",
    "    for p in G.nodes:\n",
    "        persons_list.append([p,len(list(G.neighbors(p)))])\n",
    "    vvip_list = sorted(persons_list, key = lambda x: x[1],reverse=True)\n",
    "    print(\"\\n Top5 interactions in Book without weights \\n\"+str(i),vvip_list[:5])\n",
    "    \n",
    "    \n",
    "    #Visualizing degree of centrality#\n",
    "    fig = plt.figure(i+6)\n",
    "    neighbors = [len(list(G.neighbors(node))) for node in G.nodes()]\n",
    "    x, y = ecdf(neighbors)\n",
    "    plt.scatter(x, y)\n",
    "    plt.title('\\nNumber of Neighbors');plt.show()\n",
    "    \n",
    "    \n",
    "    \n",
    "    #Betweeness centrality#\n",
    "    print(\"\\nBetweeness centraility without weights\",sorted(nx.betweenness_centrality(G).items(), key=lambda x:x[1], reverse=True)[0:5])\n",
    "    \n",
    "    \n",
    "    \n",
    "    #Top 5 important persons with weights#\n",
    "    #sorted(weighted_degree(G, 'weight').items(), key=lambda x:x[1], reverse=True)[0:10]\n",
    "    l = list(G.degree(weight='weight'))\n",
    "    vvip_list = sorted(l, key = lambda x: x[1],reverse=True)\n",
    "    print(\"\\n Top5 interactions in Book with weight\\n\"+str(i),vvip_list[:5])\n",
    "    \n",
    "    #Betweeness centraility#\n",
    "    print(\"\\nBetweeness centraility with weights\",sorted(nx.betweenness_centrality(G,weight='weight').items(), key=lambda x:x[1], reverse=True)[0:5])"
   ]
  },
  {
   "cell_type": "markdown",
   "metadata": {},
   "source": [
    "# Conclusion:-\n",
    "* Eddard Stark is highly important person in book1 \n",
    "* Information passing is highly done by Robert-Baratheon in book1\n",
    "* Tyrion-Lannister is highly important person in book2 and book3\n",
    "* Information passing is highly done by Jaime-Lannister in book2\n",
    "* Information passing is highly done by Joffrey-Baratheon in book3\n",
    "* Jaime-Lannister and Cersei-Lannister is highly important person in book4\n",
    "* Information passing is highly done by Stannis-Baratheon in book4 and book5\n",
    "* Jon-Snow is highly important person in book5"
   ]
  },
  {
   "cell_type": "markdown",
   "metadata": {},
   "source": [
    "# Evolution of character importance"
   ]
  },
  {
   "cell_type": "code",
   "execution_count": 7,
   "metadata": {},
   "outputs": [],
   "source": [
    "edd_stark=[]\n",
    "Tyrion_Lannister=[]\n",
    "Jaime_Lannister=[]\n",
    "Jon_Snow=[]\n",
    "for i in range(1,6):\n",
    "    df = pd.read_csv(\"/Users/prituldave/projects/networkx/GOT/book\"+str(i)+\".csv\")\n",
    "    G = nx.Graph()\n",
    "    for s,t,w in zip(df['Source'],df['Target'],df['weight']):\n",
    "        G.add_edge(s,t,weight=w)\n",
    "    \n",
    "    edd_stark.append(nx.degree_centrality(G).get('Eddard-Stark'))\n",
    "    Tyrion_Lannister.append(nx.degree_centrality(G).get('Tyrion-Lannister'))\n",
    "    \n",
    "    Jaime_Lannister.append(nx.degree_centrality(G).get('Jaime-Lannister'))\n",
    "    \n",
    "    Jon_Snow.append(nx.degree_centrality(G).get('Jon-Snow'))"
   ]
  },
  {
   "cell_type": "code",
   "execution_count": null,
   "metadata": {},
   "outputs": [],
   "source": [
    "plt.plot(edd_stark,label='Eddard-Stark')\n",
    "plt.plot(Tyrion_Lannister,label='Tyrion-Lannister')\n",
    "plt.plot(Jaime_Lannister,label='Jaime-Lannister')\n",
    "plt.plot(Jon_Snow,label='Jon-Snow')\n",
    "plt.legend(loc='best')\n",
    "plt.show()"
   ]
  },
  {
   "cell_type": "markdown",
   "metadata": {},
   "source": [
    "# Conclusion:-\n",
    "* Interaction of Jon snow increase by book 5\n",
    "* Interaction of Eddard-Stark completely decrease by book5 which indicating he dies off as book progress"
   ]
  },
  {
   "cell_type": "markdown",
   "metadata": {},
   "source": [
    "# Whats up with Stannis Baratheon "
   ]
  },
  {
   "cell_type": "code",
   "execution_count": null,
   "metadata": {},
   "outputs": [],
   "source": [
    "for i in range(1,6):\n",
    "    df = pd.read_csv(\"/Users/prituldave/projects/networkx/GOT/book\"+str(i)+\".csv\")\n",
    "    G = nx.Graph()\n",
    "    for s,t,w in zip(df['Source'],df['Target'],df['weight']):\n",
    "        G.add_edge(s,t,weight=w)\n",
    "    print(sorted(nx.betweenness_centrality(G,weight='weight').items(), key=lambda x:x[1], reverse=True)[0:5])   "
   ]
  },
  {
   "cell_type": "markdown",
   "metadata": {},
   "source": [
    "# Conclusion:-\n",
    "* Betweeness centrality of Stannis-Baratheon is high in Book4 and Book5.\n",
    "* It means he has done maximum interaction in Book4 and Book5"
   ]
  },
  {
   "cell_type": "markdown",
   "metadata": {},
   "source": [
    "# Page Rank"
   ]
  },
  {
   "cell_type": "code",
   "execution_count": 4,
   "metadata": {},
   "outputs": [
    {
     "name": "stdout",
     "output_type": "stream",
     "text": [
      "\n",
      " Page rank for book  1\n",
      "[('Eddard-Stark', 0.04552079222830674), ('Tyrion-Lannister', 0.03301362462493267), ('Catelyn-Stark', 0.030193105286631935), ('Robert-Baratheon', 0.029834742227736747), ('Jon-Snow', 0.026834499522066197), ('Robb-Stark', 0.021562941297247517), ('Sansa-Stark', 0.02000803404286465), ('Bran-Stark', 0.019945786786238342), ('Jaime-Lannister', 0.017507847202846906), ('Cersei-Lannister', 0.017082604584758104)]\n",
      "\n",
      " Page rank for book  2\n",
      "[('Tyrion-Lannister', 0.028088488979197707), ('Theon-Greyjoy', 0.023433199579426987), ('Arya-Stark', 0.022303088978413956), ('Joffrey-Baratheon', 0.022048733432892126), ('Stannis-Baratheon', 0.02049224718517587), ('Cersei-Lannister', 0.0199178039704647), ('Robb-Stark', 0.019791114755597097), ('Jon-Snow', 0.01875530300833431), ('Bran-Stark', 0.018251836028701514), ('Catelyn-Stark', 0.018227068506582126)]\n",
      "\n",
      " Page rank for book  3\n",
      "[('Tyrion-Lannister', 0.023843119763402875), ('Jon-Snow', 0.02359954662209309), ('Robb-Stark', 0.023138616121069763), ('Sansa-Stark', 0.02012671093546904), ('Jaime-Lannister', 0.018879883611476838), ('Joffrey-Baratheon', 0.01881051632186399), ('Catelyn-Stark', 0.017228706174165404), ('Daenerys-Targaryen', 0.015223937150827222), ('Arya-Stark', 0.014915552603289424), ('Cersei-Lannister', 0.014026737203351087)]\n",
      "\n",
      " Page rank for book  4\n",
      "[('Jaime-Lannister', 0.04154198896923868), ('Cersei-Lannister', 0.03449356006204491), ('Brienne-of-Tarth', 0.01872688173792006), ('Arya-Stark', 0.017484395306504658), ('Samwell-Tarly', 0.016137919901292135), ('Victarion-Greyjoy', 0.015073582631734868), ('Tyrion-Lannister', 0.014286037850672709), ('Sansa-Stark', 0.014125070332469557), ('Margaery-Tyrell', 0.01341482774931626), ('Aeron-Greyjoy', 0.013213398016113917)]\n",
      "\n",
      " Page rank for book  5\n",
      "[('Jon-Snow', 0.037935707933202154), ('Daenerys-Targaryen', 0.03277517755505279), ('Stannis-Baratheon', 0.027980184072203325), ('Theon-Greyjoy', 0.02010298559189415), ('Tyrion-Lannister', 0.018518417592809408), ('Cersei-Lannister', 0.016973620641764293), ('Barristan-Selmy', 0.012771153442375316), ('Asha-Greyjoy', 0.012534927191092357), ('Hizdahr-zo-Loraq', 0.010963968470990423), ('Melisandre', 0.009679290119387991)]\n"
     ]
    }
   ],
   "source": [
    "temp = []\n",
    "for i in range(1,6):\n",
    "    df = pd.read_csv(\"/Users/prituldave/projects/networkx/GOT/book\"+str(i)+\".csv\")\n",
    "    G = nx.Graph()\n",
    "    for s,t,w in zip(df['Source'],df['Target'],df['weight']):\n",
    "        G.add_edge(s,t,weight=w)\n",
    "    print(\"\\n Page rank for book \",i)\n",
    "    print(sorted(nx.pagerank_numpy(G, weight=None).items(), key=lambda x:x[1], reverse=True)[0:10])"
   ]
  },
  {
   "cell_type": "markdown",
   "metadata": {},
   "source": [
    "# Correlation:- Combining all and analyzing"
   ]
  },
  {
   "cell_type": "code",
   "execution_count": 6,
   "metadata": {},
   "outputs": [
    {
     "name": "stdout",
     "output_type": "stream",
     "text": [
      "   Aegon-I-Targaryen  Daenerys-Targaryen  Aegon-Targaryen-(son-of-Rhaegar)  \\\n",
      "0           0.000682            0.044292                          0.008693   \n",
      "1           0.000000            0.253818                          0.049057   \n",
      "2           0.003165            0.183544                          0.047468   \n",
      "\n",
      "   Elia-Martell  Franklyn-Flowers    Haldon  Harry-Strickland  Jon-Connington  \\\n",
      "0      0.001850          0.001622  0.008230          0.002317        0.011162   \n",
      "1      0.006329          0.006500  0.013808          0.000151        0.025714   \n",
      "2      0.009494          0.009494  0.034810          0.009494        0.050633   \n",
      "\n",
      "     Lemore  Rhaegar-Targaryen  ...     Tysha  Shrouded-Lord  Theomore  \\\n",
      "0  0.003396           0.004645  ...  0.001709       0.000689  0.000935   \n",
      "1  0.000880           0.016317  ...  0.006329       0.000000  0.044895   \n",
      "2  0.022152           0.028481  ...  0.006329       0.003165  0.006329   \n",
      "\n",
      "   William-Foxglove  Walder-Frey-(son-of-Jammos)  Wex-Pyke  Willow-Witch-eye  \\\n",
      "0          0.000685                     0.001804  0.000681          0.000751   \n",
      "1          0.000000                     0.000000  0.000000          0.000000   \n",
      "2          0.003165                     0.006329  0.003165          0.003165   \n",
      "\n",
      "    Thistle  Wylis-Manderly     Wulfe  \n",
      "0  0.001793        0.000693  0.000803  \n",
      "1  0.000000        0.000000  0.000000  \n",
      "2  0.003165        0.003165  0.003165  \n",
      "\n",
      "[3 rows x 317 columns]\n"
     ]
    }
   ],
   "source": [
    "for i in range(1,6):\n",
    "    df = pd.read_csv(\"/Users/prituldave/projects/networkx/GOT/book\"+str(i)+\".csv\")\n",
    "    G = nx.Graph()\n",
    "    for s,t,w in zip(df['Source'],df['Target'],df['weight']):\n",
    "        G.add_edge(s,t,weight=w)\n",
    "    measures = [nx.pagerank(G),nx.betweenness_centrality(G, weight='weight'), nx.degree_centrality(G)]\n",
    "\n",
    "    cor = pd.DataFrame.from_records(measures)\n",
    "print(cor)"
   ]
  },
  {
   "cell_type": "markdown",
   "metadata": {},
   "source": [
    "# Final Conclusion\n",
    "Eddard Stark is the most important person as it interaction decrease by book5 which indicating he is dying\n",
    "because degree of centrality is high in Eddard Stark"
   ]
  },
  {
   "cell_type": "code",
   "execution_count": null,
   "metadata": {},
   "outputs": [],
   "source": []
  }
 ],
 "metadata": {
  "kernelspec": {
   "display_name": "Python 3",
   "language": "python",
   "name": "python3"
  },
  "language_info": {
   "codemirror_mode": {
    "name": "ipython",
    "version": 3
   },
   "file_extension": ".py",
   "mimetype": "text/x-python",
   "name": "python",
   "nbconvert_exporter": "python",
   "pygments_lexer": "ipython3",
   "version": "3.7.3"
  }
 },
 "nbformat": 4,
 "nbformat_minor": 4
}
